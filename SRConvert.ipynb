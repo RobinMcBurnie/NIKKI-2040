{
 "cells": [
  {
   "cell_type": "markdown",
   "id": "3b02852b-f5d2-4981-a6c9-46cf584868b9",
   "metadata": {},
   "source": [
    "### Q&D Implementation to convert sample rates of audio files"
   ]
  },
  {
   "cell_type": "code",
   "execution_count": null,
   "id": "05bdd4e9-5cc8-4705-b9b9-37243be37404",
   "metadata": {},
   "outputs": [],
   "source": [
    "# Imports needed:\n",
    "import os\n",
    "from glob import glob\n",
    "# import numpy\n",
    "from pathlib import Path\n",
    "import soundfile as sf\n",
    "import librosa"
   ]
  },
  {
   "cell_type": "markdown",
   "id": "b122f055",
   "metadata": {},
   "source": [
    "Change the line below to point at the Base directory of any subdirectories containing the .wav files to change the sample rate of..."
   ]
  },
  {
   "cell_type": "code",
   "execution_count": 2,
   "id": "eca1ce98-75d0-4cf7-9814-1d301d7f4bc1",
   "metadata": {},
   "outputs": [],
   "source": [
    "DataDir = Path(\"C:/Users/RM/Documents/ML/NIKKI/Data\")"
   ]
  },
  {
   "cell_type": "code",
   "execution_count": null,
   "id": "70d07a48-5448-4126-b047-97b2e573ddf4",
   "metadata": {},
   "outputs": [],
   "source": [
    "# Original files plus directory structure to use\n",
    "Targets = []\n",
    "Words = []\n",
    "Sources = []\n",
    "WordList =[]\n",
    "\n",
    "\n",
    "\n",
    "#Get all the sub-directories (the Target word folders) in DataDir\n",
    "Targets = Path(DataDir).glob('*')\n",
    "for target in Targets:\n",
    "    i = 0\n",
    "    #Get the Words\n",
    "    if target.is_dir():\n",
    "        Words.append(target)\n",
    "        tmpWPLen = len(os.path.dirname(target)) + 1\n",
    "        tmpWItem = str(target) [(tmpWPLen):]\n",
    "        WordList.append(tmpWItem)\n",
    "        i = i + 1\n",
    "print(i)\n",
    "\n",
    "# Get original recorded source files for each word\n",
    "for worddir in Words:\n",
    "    Sources.append(os.listdir(worddir))\n",
    "\n",
    "\n",
    "print(Words)\n",
    "print()\n",
    "print(WordList)\n",
    "print()\n",
    "print(Sources)\n",
    "print()\n",
    "\n"
   ]
  },
  {
   "cell_type": "markdown",
   "id": "0aeaa0cc",
   "metadata": {},
   "source": [
    "This changes the sample rate to 16KHz but changing the line:\n",
    "<br>\n",
    "*sf.write(tmpfilein, NewSample, 16000)*\n",
    "<br>\n",
    "allows different values from 16000 - e.g. 8000, 11025, 22050, 44100, 48000"
   ]
  },
  {
   "cell_type": "code",
   "execution_count": null,
   "id": "03731722-3baa-448c-adbc-bd6cf024625f",
   "metadata": {},
   "outputs": [],
   "source": [
    "# Loop through each source file in each source directory and resample to 16KHz then save over original\n",
    "sdir=0   # Current (Word) source Directory\n",
    "sfile=0  # Current (Word) source File\n",
    "for word in Words:\n",
    "    # V Dubugging V\n",
    "    print(\"Current Word:  \" + WordList [sdir])\n",
    "    for sfile in Sources [sdir]:\n",
    "        tmpfilein = os.path.join(word , Path(sfile))\n",
    "        # V Dubugging V\n",
    "        print(\"Input File:  \" + str(tmpfilein))\n",
    "        sample, sr = librosa.load(tmpfilein, sr=None)\n",
    "        NewSample = librosa.resample(sample, orig_sr=sr, target_sr=16000, res_type='soxr_hq', fix=True, scale=False)\n",
    "        print(sample.shape)\n",
    "        print(NewSample.shape)\n",
    "        print()\n",
    "        sf.write(tmpfilein, NewSample, 16000)\n",
    "    \n",
    "    sdir += 1"
   ]
  },
  {
   "cell_type": "code",
   "execution_count": null,
   "id": "5060ad5f-a2d1-4e26-8714-2fa14988687f",
   "metadata": {},
   "outputs": [],
   "source": []
  }
 ],
 "metadata": {
  "kernelspec": {
   "display_name": "\"Python/Mu (mu_venv-38-20241021-195044)\"",
   "language": "python",
   "name": "mu_venv-38-20241021-195044"
  },
  "language_info": {
   "codemirror_mode": {
    "name": "ipython",
    "version": 3
   },
   "file_extension": ".py",
   "mimetype": "text/x-python",
   "name": "python",
   "nbconvert_exporter": "python",
   "pygments_lexer": "ipython3",
   "version": "3.8.12"
  }
 },
 "nbformat": 4,
 "nbformat_minor": 5
}
