{
 "cells": [
  {
   "cell_type": "markdown",
   "id": "070a5f9e-b55e-4e9e-95bc-847fb4a6f129",
   "metadata": {},
   "source": [
    "\n",
    "## Quick Rename of all files in a folder of the specified type (.extension)\n",
    "\n",
    "Robin McBurnie\n",
    "May 2024\n",
    "<br>\n",
    ">This will quickly rename files in the folder ***BaseDir*** that match the file extension ***BaseExt*** such that:<br>\n",
    ">All files start with the given ***BaseName***.<br>\n",
    ">This is followed by a separater ***NameSep***.<br>\n",
    ">This is followed by a sequential number starting with ***SeqStart***.<br>\n",
    ">The number of digits can be set using ***SeqDigs***. If *SeqDigs*=0 then the numbers are just used as-is.<br>\n",
    "<br><br>\n"
   ]
  },
  {
   "cell_type": "code",
   "execution_count": 16,
   "id": "68181941-6ce2-4a08-b901-61605e632fdf",
   "metadata": {},
   "outputs": [],
   "source": [
    "# Imports needed:\n",
    "import os\n",
    "from glob import glob\n",
    "# import numpy\n",
    "from pathlib import Path\n",
    "import shutil"
   ]
  },
  {
   "cell_type": "markdown",
   "id": "43226451-0b99-4727-bf5e-78016a324508",
   "metadata": {},
   "source": [
    "First we need to define the directory structures and file name.\n",
    "\n",
    "*BaseDir* is the folder containing all the files.<br>\n",
    "*BaseExt* is the extension type to apply the rename to.<br>\n",
    "<br>\n",
    "*BaseName* is the name part of the new names.<br>\n",
    "*NameSep* is an optional separator to use. <br>\n",
    "*SeqStart* is the number you want the sequential numeric part of the new names to start from.<br>\n",
    "*SeqDigs* is the minimum numbers of digits to use - pads the number with leading zeros.<br>\n",
    "<br>"
   ]
  },
  {
   "cell_type": "code",
   "execution_count": 17,
   "id": "6f584ada-4e74-4fc0-a31a-f9c07e8d213e",
   "metadata": {
    "editable": true,
    "slideshow": {
     "slide_type": ""
    },
    "tags": []
   },
   "outputs": [],
   "source": [
    "BaseDir = Path(\"C:/Users/RM/Documents/ML/NIKKI/AudioNoise/Unknown\")\n",
    "BaseExt = \".wav\" # Only use lower case and don't forget the dot!\n",
    "BaseName = \"Unknown\"\n",
    "NameSep = \"_\"\n",
    "SeqStart = 1\n",
    "SeqDigs = 4   # Max 8 digits!\n",
    "SpareDigs = \"00000000\"\n",
    "\n",
    "BaseLst = []   # Hold a list of All files in BaseDir\n",
    "Targets = []   # Hold a list of all the files to rename\n",
    "\n",
    "#Get all the files in BaseDir\n",
    "BaseLst = Path(BaseDir).glob('*')\n",
    "for ffound in BaseLst:\n",
    "    if ffound.is_dir():\n",
    "        print(str(ffound) + \" is a directory, skipping...\")\n",
    "    else:\n",
    "        ff_ext = Path(ffound).suffix\n",
    "        if ff_ext.lower() == BaseExt:\n",
    "            Targets.append(ffound)\n",
    "        else:\n",
    "            print(str(ffound) + \" wrong file type, skipping...\")\n",
    "\n"
   ]
  },
  {
   "cell_type": "code",
   "execution_count": null,
   "id": "4d821b28-7fa7-4320-a796-902bdd5eeceb",
   "metadata": {
    "scrolled": true
   },
   "outputs": [],
   "source": [
    "i = SeqStart\n",
    "for target in Targets:\n",
    "    newfile = BaseName + NameSep\n",
    "    newfileid = str(i)\n",
    "    tmplen = SeqDigs\n",
    "    tmplen = tmplen - len(newfileid)\n",
    "    if tmplen > 0:\n",
    "        newfileid = SpareDigs[1:tmplen] + newfileid\n",
    "\n",
    "    newfile = newfile + newfileid + BaseExt\n",
    "    fullpath = os.path.join(BaseDir , Path(newfile))\n",
    "\n",
    "    if os.path.isfile(fullpath):\n",
    "        print(newfile + \" already exists, skipping...\")\n",
    "    else:\n",
    "        os.rename(target , fullpath)\n",
    "        print(\"Renamed:  \" + str(target))\n",
    "        print(\"To:       \" + str(fullpath))\n",
    "\n",
    "    i = i+1\n",
    "    \n",
    "\n"
   ]
  }
 ],
 "metadata": {
  "kernelspec": {
   "display_name": "Python 3 (ipykernel)",
   "language": "python",
   "name": "python3"
  },
  "language_info": {
   "codemirror_mode": {
    "name": "ipython",
    "version": 3
   },
   "file_extension": ".py",
   "mimetype": "text/x-python",
   "name": "python",
   "nbconvert_exporter": "python",
   "pygments_lexer": "ipython3",
   "version": "3.11.9"
  }
 },
 "nbformat": 4,
 "nbformat_minor": 5
}
